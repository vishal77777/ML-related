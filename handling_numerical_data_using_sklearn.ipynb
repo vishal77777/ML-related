{
  "nbformat": 4,
  "nbformat_minor": 0,
  "metadata": {
    "colab": {
      "name": "handling numerical data using sklearn.ipynb",
      "provenance": [],
      "collapsed_sections": [],
      "authorship_tag": "ABX9TyOZwocm6ZxhvjRwlu+6JWpM",
      "include_colab_link": true
    },
    "kernelspec": {
      "name": "python3",
      "display_name": "Python 3"
    },
    "language_info": {
      "name": "python"
    }
  },
  "cells": [
    {
      "cell_type": "markdown",
      "metadata": {
        "id": "view-in-github",
        "colab_type": "text"
      },
      "source": [
        "<a href=\"https://colab.research.google.com/github/vishal77777/ML-related/blob/main/handling_numerical_data_using_sklearn.ipynb\" target=\"_parent\"><img src=\"https://colab.research.google.com/assets/colab-badge.svg\" alt=\"Open In Colab\"/></a>"
      ]
    },
    {
      "cell_type": "code",
      "execution_count": null,
      "metadata": {
        "id": "BpxlW4hU4GBS",
        "colab": {
          "base_uri": "https://localhost:8080/"
        },
        "outputId": "8b100dae-41a4-419c-ab60-41aedc589f5e"
      },
      "outputs": [
        {
          "output_type": "execute_result",
          "data": {
            "text/plain": [
              "array([[0.        ],\n",
              "       [0.28571429],\n",
              "       [0.35714286],\n",
              "       [0.42857143],\n",
              "       [1.        ]])"
            ]
          },
          "metadata": {},
          "execution_count": 1
        }
      ],
      "source": [
        "#rescaling a feature that to bring a value to the desired form\n",
        "import numpy as np\n",
        "from sklearn import preprocessing as pre\n",
        "feature=np.array([[-500.5],\n",
        "                  [-100.1],\n",
        "                  [0],\n",
        "                  [100.1],\n",
        "                  [900.9]])\n",
        "min_max_scale = pre.MinMaxScaler(feature_range=(0,1))\n",
        "scaled=min_max_scale.fit_transform(feature)\n",
        "scaled\n",
        "\n",
        "\"\"\"MIN MAX FEATURE IS USED FOR THE SCALING OF NUMBERS IN THE ARRAY TO BE OF THE RANGE 0,1\n",
        "MIN_MAX=  Xi-min(x)/max(x)-min(x)   for example from the array:\n",
        "900.9-(-500.5)/900.9-(-500.5) = 1     \"\"\""
      ]
    },
    {
      "cell_type": "code",
      "source": [
        "#standardizing a feature --bring the feature to have a mean of 0 and standard deviation of 1\n",
        "#value will be in range from (-1,1)\n",
        "\n",
        "x=np.array([[-500.5],\n",
        "                  [-100.1],\n",
        "                  [0],\n",
        "                  [100.1],\n",
        "                  [900.9]])\n",
        "scaler=pre.StandardScaler()\n",
        "standardized=scaler.fit_transform(x)\n",
        "\n",
        "standardized , standardized.std(),standardized.mean(),standardized.min()"
      ],
      "metadata": {
        "colab": {
          "base_uri": "https://localhost:8080/"
        },
        "id": "Xb6qAD4pwMBP",
        "outputId": "bdc1ae13-8c62-4b5f-a651-9a62f47890a5"
      },
      "execution_count": null,
      "outputs": [
        {
          "output_type": "execute_result",
          "data": {
            "text/plain": [
              "(array([[-1.26687088],\n",
              "        [-0.39316683],\n",
              "        [-0.17474081],\n",
              "        [ 0.0436852 ],\n",
              "        [ 1.79109332]]), 1.0, 0.0, -1)"
            ]
          },
          "metadata": {},
          "execution_count": 6
        }
      ]
    },
    {
      "cell_type": "code",
      "source": [
        "# robust scaler- to find the outlier of the data or the value which does relate \n",
        "# to the pattern of values in the array\n",
        "robust=pre.RobustScaler()\n",
        "robust.fit_transform(x)"
      ],
      "metadata": {
        "colab": {
          "base_uri": "https://localhost:8080/"
        },
        "id": "F7KZnH_cyQz9",
        "outputId": "fe42e757-c2bb-44f3-dfa7-edda981823bf"
      },
      "execution_count": null,
      "outputs": [
        {
          "output_type": "execute_result",
          "data": {
            "text/plain": [
              "array([[-2.5],\n",
              "       [-0.5],\n",
              "       [ 0. ],\n",
              "       [ 0.5],\n",
              "       [ 4.5]])"
            ]
          },
          "metadata": {},
          "execution_count": 11
        }
      ]
    },
    {
      "cell_type": "code",
      "source": [
        "#normalizing the feature according to each of the values\n",
        "# L1 PARAMETER = MANHATTAN NORM\n",
        "# L2 =EUCLIDEAN NORM (DISTANCE)\n",
        "# \n",
        "y=np.array([[0.5,0.5],\n",
        "            [1.2,1.3],\n",
        "            [5.3,6.4]])\n",
        "normalizer=pre.Normalizer(\"l1\")\n",
        "\n",
        "normalizerS=pre.Normalizer(\"l2\")\n",
        "\n",
        "print(\"l1, where sum of the value is 1,\\n\",(normalizer.fit_transform(y)))\n",
        "print(\"l2, whereit is the distance between each individual feature,\\n\",normalizerS.fit_transform(y))"
      ],
      "metadata": {
        "colab": {
          "base_uri": "https://localhost:8080/"
        },
        "id": "7G2ix2Xv34ld",
        "outputId": "2879b196-d9e8-4397-d6e2-f3aa83d532e6"
      },
      "execution_count": null,
      "outputs": [
        {
          "output_type": "stream",
          "name": "stdout",
          "text": [
            "l1, where sum of the value is 1,\n",
            " [[0.5        0.5       ]\n",
            " [0.48       0.52      ]\n",
            " [0.45299145 0.54700855]]\n",
            "l2, whereit is the distance between each individual feature,\n",
            " [[0.70710678 0.70710678]\n",
            " [0.6782801  0.73480344]\n",
            " [0.63781397 0.77019046]]\n"
          ]
        }
      ]
    },
    {
      "cell_type": "code",
      "source": [
        ""
      ],
      "metadata": {
        "id": "nHyCxpUL4cTU"
      },
      "execution_count": null,
      "outputs": []
    }
  ]
}